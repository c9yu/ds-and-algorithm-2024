{
 "cells": [
  {
   "cell_type": "code",
   "execution_count": 1,
   "metadata": {},
   "outputs": [],
   "source": [
    "# date : 2024-02-16\n",
    "# file : ds20_graph.ipynb\n",
    "# desc : 그래프 간단 구현"
   ]
  },
  {
   "cell_type": "markdown",
   "metadata": {},
   "source": [
    "## 자료구조와 알고리즘\n",
    "\n",
    "- 그래프 구현\n",
    "### 그래프 정점 생성\n",
    "\n",
    "![graph](https://raw.githubusercontent.com/c9yu/ds-and-algorithm-2024/main/images/img004.png)"
   ]
  },
  {
   "cell_type": "code",
   "execution_count": 2,
   "metadata": {},
   "outputs": [],
   "source": [
    "# 그래프 클래스 선언, 인접행렬을 담고 있는 객체를\n",
    "class Graph(): # 녹색은 클래스명, 하늘색은 변수명\n",
    "    SIZE = graph = None # 멤버변수\n",
    "\n",
    "    def __init__(self, size) -> None:\n",
    "        self.SIZE = size\n",
    "        self.graph = [[0 for _ in range(self.SIZE)] for _ in range(self.SIZE)]"
   ]
  },
  {
   "cell_type": "code",
   "execution_count": 3,
   "metadata": {},
   "outputs": [],
   "source": [
    "G1 = Graph(5)"
   ]
  },
  {
   "cell_type": "code",
   "execution_count": 4,
   "metadata": {},
   "outputs": [
    {
     "data": {
      "text/plain": [
       "[[0, 0, 0, 0, 0],\n",
       " [0, 0, 0, 0, 0],\n",
       " [0, 0, 0, 0, 0],\n",
       " [0, 0, 0, 0, 0],\n",
       " [0, 0, 0, 0, 0]]"
      ]
     },
     "execution_count": 4,
     "metadata": {},
     "output_type": "execute_result"
    }
   ],
   "source": [
    "G1.graph"
   ]
  },
  {
   "cell_type": "code",
   "execution_count": 5,
   "metadata": {},
   "outputs": [
    {
     "data": {
      "text/plain": [
       "[[0, 1, 2, 3, 4, 5, 6, 7, 8, 9],\n",
       " [0, 1, 2, 3, 4, 5, 6, 7, 8, 9],\n",
       " [0, 1, 2, 3, 4, 5, 6, 7, 8, 9],\n",
       " [0, 1, 2, 3, 4, 5, 6, 7, 8, 9],\n",
       " [0, 1, 2, 3, 4, 5, 6, 7, 8, 9]]"
      ]
     },
     "execution_count": 5,
     "metadata": {},
     "output_type": "execute_result"
    }
   ],
   "source": [
    "# 앞쪽 리스트가 열(column), 뒤에 리스트가 행(row)\n",
    "[[i for i in range(10)] for _ in range(5)] # 5행 6열"
   ]
  },
  {
   "cell_type": "code",
   "execution_count": 6,
   "metadata": {},
   "outputs": [],
   "source": [
    "G1 = Graph(4)"
   ]
  },
  {
   "cell_type": "code",
   "execution_count": 7,
   "metadata": {},
   "outputs": [],
   "source": [
    "G1.graph[0][1] = 1 # (A, B) 간선 \n",
    "G1.graph[0][2] = 1 # (A, C) 간선\n",
    "G1.graph[0][3] = 1 # (A, D) 간선"
   ]
  },
  {
   "cell_type": "code",
   "execution_count": 8,
   "metadata": {},
   "outputs": [
    {
     "data": {
      "text/plain": [
       "[[0, 1, 1, 1], [0, 0, 0, 0], [0, 0, 0, 0], [0, 0, 0, 0]]"
      ]
     },
     "execution_count": 8,
     "metadata": {},
     "output_type": "execute_result"
    }
   ],
   "source": [
    "G1.graph"
   ]
  },
  {
   "cell_type": "code",
   "execution_count": 9,
   "metadata": {},
   "outputs": [
    {
     "name": "stdout",
     "output_type": "stream",
     "text": [
      "Collecting pandas\n",
      "  Downloading pandas-2.2.0-cp311-cp311-win_amd64.whl.metadata (19 kB)\n",
      "Requirement already satisfied: numpy<2,>=1.23.2 in c:\\dev\\langs\\python311\\lib\\site-packages (from pandas) (1.26.3)\n",
      "Requirement already satisfied: python-dateutil>=2.8.2 in c:\\users\\administrator\\appdata\\roaming\\python\\python311\\site-packages (from pandas) (2.8.2)\n",
      "Collecting pytz>=2020.1 (from pandas)\n",
      "  Downloading pytz-2024.1-py2.py3-none-any.whl.metadata (22 kB)\n",
      "Collecting tzdata>=2022.7 (from pandas)\n",
      "  Downloading tzdata-2024.1-py2.py3-none-any.whl.metadata (1.4 kB)\n",
      "Requirement already satisfied: six>=1.5 in c:\\users\\administrator\\appdata\\roaming\\python\\python311\\site-packages (from python-dateutil>=2.8.2->pandas) (1.16.0)\n",
      "Downloading pandas-2.2.0-cp311-cp311-win_amd64.whl (11.6 MB)\n",
      "   ---------------------------------------- 0.0/11.6 MB ? eta -:--:--\n",
      "    --------------------------------------- 0.2/11.6 MB 4.8 MB/s eta 0:00:03\n",
      "   -- ------------------------------------- 0.6/11.6 MB 6.5 MB/s eta 0:00:02\n",
      "   -- ------------------------------------- 0.8/11.6 MB 6.6 MB/s eta 0:00:02\n",
      "   --- ------------------------------------ 1.1/11.6 MB 7.1 MB/s eta 0:00:02\n",
      "   ----- ---------------------------------- 1.5/11.6 MB 6.8 MB/s eta 0:00:02\n",
      "   ------ --------------------------------- 1.9/11.6 MB 7.0 MB/s eta 0:00:02\n",
      "   ------- -------------------------------- 2.3/11.6 MB 7.3 MB/s eta 0:00:02\n",
      "   --------- ------------------------------ 2.7/11.6 MB 7.4 MB/s eta 0:00:02\n",
      "   ---------- ----------------------------- 3.1/11.6 MB 7.8 MB/s eta 0:00:02\n",
      "   ----------- ---------------------------- 3.5/11.6 MB 7.9 MB/s eta 0:00:02\n",
      "   ------------- -------------------------- 4.0/11.6 MB 8.2 MB/s eta 0:00:01\n",
      "   --------------- ------------------------ 4.5/11.6 MB 8.4 MB/s eta 0:00:01\n",
      "   ----------------- ---------------------- 5.0/11.6 MB 8.7 MB/s eta 0:00:01\n",
      "   ------------------ --------------------- 5.5/11.6 MB 9.0 MB/s eta 0:00:01\n",
      "   -------------------- ------------------- 6.0/11.6 MB 9.2 MB/s eta 0:00:01\n",
      "   ---------------------- ----------------- 6.5/11.6 MB 9.3 MB/s eta 0:00:01\n",
      "   ------------------------ --------------- 7.1/11.6 MB 9.6 MB/s eta 0:00:01\n",
      "   -------------------------- ------------- 7.8/11.6 MB 9.9 MB/s eta 0:00:01\n",
      "   ----------------------------- ---------- 8.5/11.6 MB 10.3 MB/s eta 0:00:01\n",
      "   ------------------------------- -------- 9.2/11.6 MB 10.5 MB/s eta 0:00:01\n",
      "   --------------------------------- ------ 9.8/11.6 MB 10.9 MB/s eta 0:00:01\n",
      "   ----------------------------------- ---- 10.3/11.6 MB 11.1 MB/s eta 0:00:01\n",
      "   ------------------------------------- -- 10.9/11.6 MB 11.3 MB/s eta 0:00:01\n",
      "   ---------------------------------------  11.4/11.6 MB 11.7 MB/s eta 0:00:01\n",
      "   ---------------------------------------  11.6/11.6 MB 11.9 MB/s eta 0:00:01\n",
      "   ---------------------------------------- 11.6/11.6 MB 11.3 MB/s eta 0:00:00\n",
      "Downloading pytz-2024.1-py2.py3-none-any.whl (505 kB)\n",
      "   ---------------------------------------- 0.0/505.5 kB ? eta -:--:--\n",
      "   --------------------------------------- 505.5/505.5 kB 10.5 MB/s eta 0:00:00\n",
      "Downloading tzdata-2024.1-py2.py3-none-any.whl (345 kB)\n",
      "   ---------------------------------------- 0.0/345.4 kB ? eta -:--:--\n",
      "   --------------------------------------- 345.4/345.4 kB 10.8 MB/s eta 0:00:00\n",
      "Installing collected packages: pytz, tzdata, pandas\n",
      "Successfully installed pandas-2.2.0 pytz-2024.1 tzdata-2024.1\n"
     ]
    },
    {
     "name": "stderr",
     "output_type": "stream",
     "text": [
      "\n",
      "[notice] A new release of pip is available: 23.3.2 -> 24.0\n",
      "[notice] To update, run: python.exe -m pip install --upgrade pip\n"
     ]
    }
   ],
   "source": [
    "# 데이터 분석용 패키지 설치\n",
    "!pip install pandas"
   ]
  },
  {
   "cell_type": "code",
   "execution_count": 10,
   "metadata": {},
   "outputs": [
    {
     "name": "stderr",
     "output_type": "stream",
     "text": [
      "C:\\Users\\Administrator\\AppData\\Local\\Temp\\ipykernel_3364\\4080736814.py:1: DeprecationWarning: \n",
      "Pyarrow will become a required dependency of pandas in the next major release of pandas (pandas 3.0),\n",
      "(to allow more performant data types, such as the Arrow string type, and better interoperability with other libraries)\n",
      "but was not found to be installed on your system.\n",
      "If this would cause problems for you,\n",
      "please provide us feedback at https://github.com/pandas-dev/pandas/issues/54466\n",
      "        \n",
      "  import pandas as pd\n"
     ]
    }
   ],
   "source": [
    "import pandas as pd"
   ]
  },
  {
   "cell_type": "code",
   "execution_count": 11,
   "metadata": {},
   "outputs": [
    {
     "data": {
      "text/plain": [
       "0    [0, 1, 1, 1]\n",
       "1    [0, 0, 0, 0]\n",
       "2    [0, 0, 0, 0]\n",
       "3    [0, 0, 0, 0]\n",
       "dtype: object"
      ]
     },
     "execution_count": 11,
     "metadata": {},
     "output_type": "execute_result"
    }
   ],
   "source": [
    "pd.Series(G1.graph)"
   ]
  },
  {
   "cell_type": "code",
   "execution_count": 12,
   "metadata": {},
   "outputs": [],
   "source": [
    "G1.graph[1][0] = 1 # (B, A) 간선\n",
    "G1.graph[1][2] = 1 # (B, C) 간선"
   ]
  },
  {
   "cell_type": "code",
   "execution_count": 13,
   "metadata": {},
   "outputs": [
    {
     "data": {
      "text/plain": [
       "0    [0, 1, 1, 1]\n",
       "1    [1, 0, 1, 0]\n",
       "2    [0, 0, 0, 0]\n",
       "3    [0, 0, 0, 0]\n",
       "dtype: object"
      ]
     },
     "execution_count": 13,
     "metadata": {},
     "output_type": "execute_result"
    }
   ],
   "source": [
    "pd.Series(G1.graph)"
   ]
  },
  {
   "cell_type": "code",
   "execution_count": 14,
   "metadata": {},
   "outputs": [],
   "source": [
    "G1.graph[2][0] = 1 # (C, A) 간선\n",
    "G1.graph[2][1] = 1 # (C, B) 간선\n",
    "G1.graph[2][3] = 1 # (C, D) 간선"
   ]
  },
  {
   "cell_type": "code",
   "execution_count": 15,
   "metadata": {},
   "outputs": [
    {
     "data": {
      "text/plain": [
       "0    [0, 1, 1, 1]\n",
       "1    [1, 0, 1, 0]\n",
       "2    [1, 1, 0, 1]\n",
       "3    [0, 0, 0, 0]\n",
       "dtype: object"
      ]
     },
     "execution_count": 15,
     "metadata": {},
     "output_type": "execute_result"
    }
   ],
   "source": [
    "pd.Series(G1.graph)"
   ]
  },
  {
   "cell_type": "code",
   "execution_count": 16,
   "metadata": {},
   "outputs": [],
   "source": [
    "G1.graph[3][0] = 1 # (D, A) 간선\n",
    "G1.graph[3][2] = 1 # (D, C) 간선"
   ]
  },
  {
   "cell_type": "code",
   "execution_count": 17,
   "metadata": {},
   "outputs": [
    {
     "data": {
      "text/plain": [
       "0    [0, 1, 1, 1]\n",
       "1    [1, 0, 1, 0]\n",
       "2    [1, 1, 0, 1]\n",
       "3    [1, 0, 1, 0]\n",
       "dtype: object"
      ]
     },
     "execution_count": 17,
     "metadata": {},
     "output_type": "execute_result"
    }
   ],
   "source": [
    "pd.Series(G1.graph)"
   ]
  },
  {
   "cell_type": "code",
   "execution_count": 18,
   "metadata": {},
   "outputs": [
    {
     "name": "stdout",
     "output_type": "stream",
     "text": [
      "무방향 그래프\n",
      "0 1 1 1 \n",
      "1 0 1 0 \n",
      "1 1 0 1 \n",
      "1 0 1 0 \n"
     ]
    }
   ],
   "source": [
    "print('무방향 그래프')\n",
    "for row in range(G1.SIZE):\n",
    "    for col in range(G1.SIZE):\n",
    "        print(G1.graph[row][col], end=' ')\n",
    "    print()"
   ]
  },
  {
   "cell_type": "code",
   "execution_count": 19,
   "metadata": {},
   "outputs": [],
   "source": [
    "# G3\n",
    "G3 = Graph(4)"
   ]
  },
  {
   "cell_type": "code",
   "execution_count": 20,
   "metadata": {},
   "outputs": [],
   "source": [
    "G3.graph[0][1] = 1 # <A, B>\n",
    "G3.graph[0][2] = 1 # <A, C>\n",
    "G3.graph[3][0] = 1 # <D, A>\n",
    "G3.graph[3][0] = 1 # <D, C>"
   ]
  },
  {
   "cell_type": "code",
   "execution_count": 21,
   "metadata": {},
   "outputs": [
    {
     "data": {
      "text/plain": [
       "0    [0, 1, 1, 0]\n",
       "1    [0, 0, 0, 0]\n",
       "2    [0, 0, 0, 0]\n",
       "3    [1, 0, 0, 0]\n",
       "dtype: object"
      ]
     },
     "execution_count": 21,
     "metadata": {},
     "output_type": "execute_result"
    }
   ],
   "source": [
    "pd.Series(G3.graph)"
   ]
  },
  {
   "cell_type": "code",
   "execution_count": 22,
   "metadata": {},
   "outputs": [
    {
     "name": "stdout",
     "output_type": "stream",
     "text": [
      "방향 그래프\n",
      "0 1 1 0 \n",
      "0 0 0 0 \n",
      "0 0 0 0 \n",
      "1 0 0 0 \n"
     ]
    }
   ],
   "source": [
    "print('방향 그래프')\n",
    "for row in range(G3.SIZE):\n",
    "    for col in range(G3.SIZE):\n",
    "        print(G3.graph[row][col], end=' ')\n",
    "    print()"
   ]
  },
  {
   "cell_type": "markdown",
   "metadata": {},
   "source": [
    "2. 그래프 개선"
   ]
  },
  {
   "cell_type": "code",
   "execution_count": 23,
   "metadata": {},
   "outputs": [],
   "source": [
    "# 그래프 출력용 함수\n",
    "def printGraph(g):\n",
    "    print('     ', end='') # 공백 6개\n",
    "    for v in range(g.SIZE):\n",
    "        print(nameAry[v], end=' ')\n",
    "    print()\n",
    "    for row in range(g.SIZE):\n",
    "        print(nameAry[row], end=' ')\n",
    "        for col in range(g.SIZE):\n",
    "            print(f'   {g.graph[row][col]}', end=' ') # f string안에는 공백 3개\n",
    "        print()\n",
    "    print()"
   ]
  },
  {
   "cell_type": "code",
   "execution_count": 24,
   "metadata": {},
   "outputs": [],
   "source": [
    "## 전역변수\n",
    "nameAry = ['찬규', '지환', '경민', '소민', '은수', '수진']"
   ]
  },
  {
   "cell_type": "code",
   "execution_count": 25,
   "metadata": {},
   "outputs": [],
   "source": [
    "찬규 = nameAry.index('찬규')\n",
    "지환 = nameAry.index('지환')\n",
    "경민 = nameAry.index('경민')\n",
    "소민 = nameAry.index('소민')\n",
    "은수 = nameAry.index('은수')\n",
    "수진 = nameAry.index('수진')"
   ]
  },
  {
   "cell_type": "code",
   "execution_count": 26,
   "metadata": {},
   "outputs": [],
   "source": [
    "# 메인코드\n",
    "gSize = len(nameAry)\n",
    "G1 = Graph(gSize)"
   ]
  },
  {
   "cell_type": "code",
   "execution_count": 27,
   "metadata": {},
   "outputs": [],
   "source": [
    "G1.graph[찬규][지환] = 1; G1.graph[지환][찬규] = 1\n",
    "G1.graph[찬규][경민] = 1; G1.graph[경민][찬규] = 1\n",
    "G1.graph[지환][소민] = 1; G1.graph[소민][지환] = 1\n",
    "G1.graph[경민][소민] = 1; G1.graph[소민][경민] = 1        # 오타는 CTRL + H해서 한번에 바꿀 수 있다\n",
    "G1.graph[소민][은수] = 1; G1.graph[은수][소민] = 1\n",
    "G1.graph[소민][수진] = 1; G1.graph[수진][소민] = 1\n",
    "G1.graph[은수][수진] = 1; G1.graph[수진][은수] = 1"
   ]
  },
  {
   "cell_type": "code",
   "execution_count": 28,
   "metadata": {},
   "outputs": [
    {
     "name": "stdout",
     "output_type": "stream",
     "text": [
      "무방향 그래프  G1\n",
      "     찬규 지환 경민 소민 은수 수진 \n",
      "찬규    0    1    1    0    0    0 \n",
      "지환    1    0    0    1    0    0 \n",
      "경민    1    0    0    1    0    0 \n",
      "소민    0    1    1    0    1    1 \n",
      "은수    0    0    0    1    0    1 \n",
      "수진    0    0    0    1    1    0 \n",
      "\n"
     ]
    }
   ],
   "source": [
    "print('무방향 그래프  G1')\n",
    "printGraph(G1)"
   ]
  },
  {
   "cell_type": "markdown",
   "metadata": {},
   "source": [
    "3. 깊이 우선 탐색(DFS)"
   ]
  },
  {
   "cell_type": "code",
   "execution_count": 29,
   "metadata": {},
   "outputs": [
    {
     "name": "stdout",
     "output_type": "stream",
     "text": [
      "스택이 비었음\n"
     ]
    }
   ],
   "source": [
    "# 스택 준비\n",
    "stack = [] # 파이썬 리스트가 스택 기능 대체\n",
    "stack.append(1) # stack.push(1)\n",
    "stack.pop()\n",
    "\n",
    "if len(stack) == 0:\n",
    "    print('스택이 비었음')"
   ]
  },
  {
   "cell_type": "markdown",
   "metadata": {},
   "source": [
    "![ASCII Code](https://raw.githubusercontent.com/c9yu/ds-and-algorithm-2024/main/images/img003.png)"
   ]
  },
  {
   "cell_type": "code",
   "execution_count": 30,
   "metadata": {},
   "outputs": [
    {
     "data": {
      "text/plain": [
       "65"
      ]
     },
     "execution_count": 30,
     "metadata": {},
     "output_type": "execute_result"
    }
   ],
   "source": [
    "# 0 1 2 3\n",
    "ord('A') # ASCII 값 출력"
   ]
  },
  {
   "cell_type": "code",
   "execution_count": 31,
   "metadata": {},
   "outputs": [
    {
     "data": {
      "text/plain": [
       "'D'"
      ]
     },
     "execution_count": 31,
     "metadata": {},
     "output_type": "execute_result"
    }
   ],
   "source": [
    "chr(65 + 3)"
   ]
  },
  {
   "cell_type": "code",
   "execution_count": 32,
   "metadata": {},
   "outputs": [
    {
     "data": {
      "text/plain": [
       "67"
      ]
     },
     "execution_count": 32,
     "metadata": {},
     "output_type": "execute_result"
    }
   ],
   "source": [
    "i = 2 # B # i = 0 # A\n",
    "ord('A') + i"
   ]
  }
 ],
 "metadata": {
  "kernelspec": {
   "display_name": "Python 3",
   "language": "python",
   "name": "python3"
  },
  "language_info": {
   "codemirror_mode": {
    "name": "ipython",
    "version": 3
   },
   "file_extension": ".py",
   "mimetype": "text/x-python",
   "name": "python",
   "nbconvert_exporter": "python",
   "pygments_lexer": "ipython3",
   "version": "3.11.5"
  }
 },
 "nbformat": 4,
 "nbformat_minor": 2
}
