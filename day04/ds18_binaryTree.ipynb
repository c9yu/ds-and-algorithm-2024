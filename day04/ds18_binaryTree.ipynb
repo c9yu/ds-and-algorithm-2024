{
 "cells": [
  {
   "cell_type": "code",
   "execution_count": 1,
   "metadata": {},
   "outputs": [],
   "source": [
    "# date : 2024-02-15\n",
    "# file : ds18_binaryTree.ipynb\n",
    "# desc : 이진트리 학습 노트북"
   ]
  },
  {
   "cell_type": "markdown",
   "metadata": {},
   "source": [
    "## 자료구조와 알고리즘\n",
    "\n",
    "이진트리\n",
    "\n",
    "## 이진트리\n",
    "1. 트리 클래스"
   ]
  },
  {
   "cell_type": "code",
   "execution_count": 2,
   "metadata": {},
   "outputs": [],
   "source": [
    "class TreeNode():\n",
    "    left = None\n",
    "    data = None\n",
    "    right = None\n",
    "\n",
    "    def __init__(self) -> None:\n",
    "        self.left = self.right = self.data = None"
   ]
  },
  {
   "cell_type": "markdown",
   "metadata": {},
   "source": [
    "2. 이진트리 생성"
   ]
  },
  {
   "cell_type": "code",
   "execution_count": 47,
   "metadata": {},
   "outputs": [],
   "source": [
    "node1 = TreeNode()\n",
    "node1.data = '지환'"
   ]
  },
  {
   "cell_type": "code",
   "execution_count": 48,
   "metadata": {},
   "outputs": [],
   "source": [
    "node2 = TreeNode()\n",
    "node2.data = '찬규'\n",
    "node1.left = node2"
   ]
  },
  {
   "cell_type": "code",
   "execution_count": 49,
   "metadata": {},
   "outputs": [],
   "source": [
    "node3 = TreeNode()\n",
    "node3.data = '경민'\n",
    "node1.right = node3"
   ]
  },
  {
   "cell_type": "code",
   "execution_count": 50,
   "metadata": {},
   "outputs": [],
   "source": [
    "node4 = TreeNode()\n",
    "node4.data = '소민'\n",
    "node2.left = node4"
   ]
  },
  {
   "cell_type": "code",
   "execution_count": 51,
   "metadata": {},
   "outputs": [],
   "source": [
    "node5 = TreeNode()\n",
    "node5.data = '은수'\n",
    "node2.right = node5"
   ]
  },
  {
   "cell_type": "code",
   "execution_count": 62,
   "metadata": {},
   "outputs": [],
   "source": [
    "node6 = TreeNode()\n",
    "node6.data = '수진'\n",
    "node3.left = node6"
   ]
  },
  {
   "cell_type": "code",
   "execution_count": 63,
   "metadata": {},
   "outputs": [],
   "source": [
    "node3.right = None"
   ]
  },
  {
   "cell_type": "code",
   "execution_count": 65,
   "metadata": {},
   "outputs": [
    {
     "name": "stdout",
     "output_type": "stream",
     "text": [
      "\t\t지환\n",
      "\t    ┌─┘└─┐\n",
      "\t  찬규        경민\n",
      "      ┌─┘└─┐  ┌─┘└─┐\n",
      "     소민      은수 수진     \n"
     ]
    }
   ],
   "source": [
    "print(f'\\t\\t{node1.data}')\n",
    "print('\\t    ┌─┘└─┐')\n",
    "print(f'\\t  {node1.left.data}        {node1.right.data}') # left = node2, right = node3\n",
    "print('      ┌─┘└─┐  ┌─┘└─┐')\n",
    "print(f'     {node1.left.left.data}      {node1.left.right.data} {node1.right.left.data}     {\"\"}')"
   ]
  },
  {
   "cell_type": "markdown",
   "metadata": {},
   "source": [
    "3. 이진트리 순회(trversal)"
   ]
  },
  {
   "cell_type": "code",
   "execution_count": 66,
   "metadata": {},
   "outputs": [],
   "source": [
    "# 지환, 찬규, 경민, 소민, 은수, 수진\n",
    "def preorder(node):\n",
    "    if node == None: return\n",
    "\n",
    "    print(node.data, end='->')\n",
    "    preorder(node.left)\n",
    "    preorder(node.right)"
   ]
  },
  {
   "cell_type": "code",
   "execution_count": 67,
   "metadata": {},
   "outputs": [
    {
     "name": "stdout",
     "output_type": "stream",
     "text": [
      "전위 순회 : 지환->찬규->소민->은수->경민->수진->끝\n"
     ]
    }
   ],
   "source": [
    "print('전위 순회 : ', end='')\n",
    "preorder(node1)\n",
    "print('끝')"
   ]
  },
  {
   "cell_type": "code",
   "execution_count": 56,
   "metadata": {},
   "outputs": [],
   "source": [
    "def inorder(node):\n",
    "    if node == None: return\n",
    "\n",
    "    inorder(node.left)\n",
    "    print(node.data, end='->')\n",
    "    inorder(node.right)"
   ]
  },
  {
   "cell_type": "code",
   "execution_count": 57,
   "metadata": {},
   "outputs": [
    {
     "name": "stdout",
     "output_type": "stream",
     "text": [
      "중위 순회 : 소민->찬규->은수->지환->수진->경민->끝\n"
     ]
    }
   ],
   "source": [
    "print('중위 순회 : ', end='')\n",
    "inorder(node1)\n",
    "print('끝')"
   ]
  },
  {
   "cell_type": "code",
   "execution_count": 58,
   "metadata": {},
   "outputs": [],
   "source": [
    "def postorder(node):\n",
    "    if node == None: return\n",
    "\n",
    "    postorder(node.left)\n",
    "    postorder(node.right)\n",
    "    print(node.data, end='->')"
   ]
  },
  {
   "cell_type": "code",
   "execution_count": 59,
   "metadata": {},
   "outputs": [
    {
     "name": "stdout",
     "output_type": "stream",
     "text": [
      "후위 순회 : 소민->은수->찬규->수진->경민->지환->끝\n"
     ]
    }
   ],
   "source": [
    "print('후위 순회 : ', end='')\n",
    "postorder(node1)\n",
    "print('끝')"
   ]
  },
  {
   "cell_type": "markdown",
   "metadata": {},
   "source": [
    "### 이진 탐색 트리 구현\n",
    "1. 기초작업"
   ]
  },
  {
   "cell_type": "code",
   "execution_count": 42,
   "metadata": {},
   "outputs": [],
   "source": [
    "root = None\n",
    "groupList = ['블랙핑크', '레드벨벳', '마마무', '걸스데이', '에이핑크', '트와이스']"
   ]
  },
  {
   "cell_type": "code",
   "execution_count": 43,
   "metadata": {},
   "outputs": [],
   "source": [
    "# 루트노드 생성\n",
    "node = TreeNode()\n",
    "node.data = groupList[0] # 블랙핑크\n",
    "root = node"
   ]
  },
  {
   "cell_type": "code",
   "execution_count": 69,
   "metadata": {},
   "outputs": [],
   "source": [
    "node = TreeNode()\n",
    "node.data = groupList[1] # 레드벨벳\n",
    "curr = root\n",
    "if node.data < curr.data:\n",
    "    curr.left = node # 레드벨벳가 블랙핑크보다 작으니까 왼쪽으로 보내서 트리를 구성\n",
    "else:\n",
    "    curr.right = node "
   ]
  }
 ],
 "metadata": {
  "kernelspec": {
   "display_name": "Python 3",
   "language": "python",
   "name": "python3"
  },
  "language_info": {
   "codemirror_mode": {
    "name": "ipython",
    "version": 3
   },
   "file_extension": ".py",
   "mimetype": "text/x-python",
   "name": "python",
   "nbconvert_exporter": "python",
   "pygments_lexer": "ipython3",
   "version": "3.11.5"
  }
 },
 "nbformat": 4,
 "nbformat_minor": 2
}
