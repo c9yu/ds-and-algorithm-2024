{
 "cells": [
  {
   "cell_type": "code",
   "execution_count": 45,
   "metadata": {},
   "outputs": [],
   "source": [
    "# date : 20240213\n",
    "# file : ds06_simpleLinkedList.ipynb\n",
    "# desc : 선형 리스트 표현과 계산 프로그램"
   ]
  },
  {
   "cell_type": "code",
   "execution_count": 46,
   "metadata": {},
   "outputs": [],
   "source": [
    "# 연결리스트 노드 클래스\n",
    "class Node():\n",
    "    # data, link 두개의 멤버변수 존재\n",
    "    # 생성자 추가\n",
    "    def __init__(self, name) -> None:\n",
    "        self.data = name\n",
    "        self.link = None"
   ]
  },
  {
   "cell_type": "code",
   "execution_count": 47,
   "metadata": {},
   "outputs": [
    {
     "name": "stdout",
     "output_type": "stream",
     "text": [
      "다현 None\n"
     ]
    }
   ],
   "source": [
    "node1 = Node('다현')\n",
    "print(node1.data, end = ' ')\n",
    "print(node1.link)"
   ]
  },
  {
   "cell_type": "code",
   "execution_count": 48,
   "metadata": {},
   "outputs": [
    {
     "name": "stdout",
     "output_type": "stream",
     "text": [
      "None\n"
     ]
    }
   ],
   "source": [
    "print(node1.link)"
   ]
  },
  {
   "cell_type": "code",
   "execution_count": 49,
   "metadata": {},
   "outputs": [
    {
     "name": "stdout",
     "output_type": "stream",
     "text": [
      "정연 None\n"
     ]
    }
   ],
   "source": [
    "node2 = Node('정연')\n",
    "node1.link = node2\n",
    "print(node2.data, end = ' ')\n",
    "print(node2.link)"
   ]
  },
  {
   "cell_type": "code",
   "execution_count": 50,
   "metadata": {},
   "outputs": [],
   "source": [
    "node1 = Node('다현')\n",
    "\n",
    "node2 = Node('정연')\n",
    "node1.link = node2\n",
    "\n",
    "node3 = Node('쯔위')\n",
    "node2.link = node3\n",
    "\n",
    "node4 = Node('사나')\n",
    "node3.link = node4\n",
    "\n",
    "node5 = Node('지효')\n",
    "node4.link = node5"
   ]
  },
  {
   "cell_type": "code",
   "execution_count": 51,
   "metadata": {},
   "outputs": [
    {
     "name": "stdout",
     "output_type": "stream",
     "text": [
      "다현 -> 정연 -> 쯔위 -> 사나 -> 지효 . "
     ]
    }
   ],
   "source": [
    "print(node1.data, end = ' -> ') # node1\n",
    "print(node1.link.data, end = ' -> ') # node2\n",
    "print(node1.link.link.data, end = ' -> ') # node3\n",
    "print(node1.link.link.link.data, end = ' -> ') # node4\n",
    "print(node1.link.link.link.link.data, end = ' . ') # node5\n",
    "\n",
    "# 값을 5개만 넣었으니 5개만 출력 없는 값을 요구하면 오류 발생"
   ]
  },
  {
   "cell_type": "code",
   "execution_count": 52,
   "metadata": {},
   "outputs": [],
   "source": [
    "friends = []\n",
    "friends.append('다현')\n",
    "friends.append('정연')\n",
    "friends.append('쯔위')\n",
    "friends.append('사나')\n",
    "friends.append('지효')"
   ]
  },
  {
   "cell_type": "code",
   "execution_count": 53,
   "metadata": {},
   "outputs": [
    {
     "data": {
      "text/plain": [
       "['다현', '정연', '쯔위', '사나', '지효']"
      ]
     },
     "execution_count": 53,
     "metadata": {},
     "output_type": "execute_result"
    }
   ],
   "source": [
    "friends\n",
    "# 결국 위와 동일한 결과물을 얻는다."
   ]
  },
  {
   "cell_type": "code",
   "execution_count": 54,
   "metadata": {},
   "outputs": [
    {
     "name": "stdout",
     "output_type": "stream",
     "text": [
      "다현 -> 정연 -> 쯔위 -> 사나 -> 지효 -> "
     ]
    }
   ],
   "source": [
    "## 연결 리스트 출력 방법\n",
    "current = node1\n",
    "print(current.data, end = ' -> ')\n",
    "while current.link != None:\n",
    "    current = current.link # 내 노드 다음의 노드가 커런트가 된다는 뜻\n",
    "    print(current.data, end = ' -> ')"
   ]
  },
  {
   "cell_type": "code",
   "execution_count": 55,
   "metadata": {},
   "outputs": [],
   "source": [
    "## 새 노드 삽입\n",
    "newNode = Node('재남') # 재남이를 쯔위와 정연 사이에 집어넣으려고 한다.\n",
    "newNode.link = node2.link # 재남의 링크를 쯔위의 링크에 넣고\n",
    "node2.link = newNode # 정연의 링크를 재남의 링크에 넣는다."
   ]
  },
  {
   "cell_type": "code",
   "execution_count": 56,
   "metadata": {},
   "outputs": [
    {
     "name": "stdout",
     "output_type": "stream",
     "text": [
      "다현 -> 정연 -> 재남 -> 쯔위 -> 사나 -> 지효 -> "
     ]
    }
   ],
   "source": [
    "current = node1\n",
    "print(current.data, end = ' -> ')\n",
    "while current.link != None:\n",
    "    current = current.link\n",
    "    print(current.data, end = ' -> ')"
   ]
  },
  {
   "cell_type": "code",
   "execution_count": 57,
   "metadata": {},
   "outputs": [],
   "source": [
    "## 기존노드 삭제(쯔위)\n",
    "newNode.link = node3.link\n",
    "\n",
    "# 이 경우에 링크를 끊었을 뿐 아직 node3은 살아있다."
   ]
  },
  {
   "cell_type": "code",
   "execution_count": 58,
   "metadata": {},
   "outputs": [
    {
     "name": "stdout",
     "output_type": "stream",
     "text": [
      "다현 -> 정연 -> 재남 -> 사나 -> 지효 -> "
     ]
    }
   ],
   "source": [
    "current = node1\n",
    "print(current.data, end = ' -> ')\n",
    "while current.link != None:\n",
    "    current = current.link \n",
    "    print(current.data, end = ' -> ')"
   ]
  },
  {
   "cell_type": "code",
   "execution_count": 60,
   "metadata": {},
   "outputs": [
    {
     "name": "stdout",
     "output_type": "stream",
     "text": [
      "쯔위\n",
      "<__main__.Node object at 0x0000025BBF036610>\n"
     ]
    }
   ],
   "source": [
    "## 완벽한 삭제\n",
    "print(node3.data)\n",
    "print(node3.link) # node3이 살아있음을 확인"
   ]
  },
  {
   "cell_type": "code",
   "execution_count": 62,
   "metadata": {},
   "outputs": [
    {
     "ename": "NameError",
     "evalue": "name 'node3' is not defined",
     "output_type": "error",
     "traceback": [
      "\u001b[1;31m---------------------------------------------------------------------------\u001b[0m",
      "\u001b[1;31mNameError\u001b[0m                                 Traceback (most recent call last)",
      "Cell \u001b[1;32mIn[62], line 1\u001b[0m\n\u001b[1;32m----> 1\u001b[0m \u001b[38;5;28;01mdel\u001b[39;00m(\u001b[43mnode3\u001b[49m)\n\u001b[0;32m      2\u001b[0m \u001b[38;5;66;03m# 완벽한 삭제를 위해서 node3을 없애준다.\u001b[39;00m\n\u001b[0;32m      3\u001b[0m \u001b[38;5;28mprint\u001b[39m(node3\u001b[38;5;241m.\u001b[39mdata)\n",
      "\u001b[1;31mNameError\u001b[0m: name 'node3' is not defined"
     ]
    }
   ],
   "source": [
    "del(node3)\n",
    "# 완벽한 삭제를 위해서 node3을 없애준다.\n",
    "print(node3.data)\n",
    "print(node3.link) # node3이 사라졌음을 확인"
   ]
  },
  {
   "cell_type": "markdown",
   "metadata": {},
   "source": [
    "### 선형리스트와 연결리스트 비교\n",
    "- 선형리스트는 메모리 저장장소의 최적화는 있지만, 삽입이나 삭제시 처리시간에 대한 오버헤드는 존재(꽤 많이)\n",
    "- 연결리스트는 메모리 공간 오버헤드는 존재(current, node.link 등), 삽입/ 삭제 처리시간은 최적화\n",
    "- 그래서 현대의 IT에서는 거의 선형리스트를 사용하지 않음"
   ]
  },
  {
   "cell_type": "code",
   "execution_count": null,
   "metadata": {},
   "outputs": [],
   "source": []
  }
 ],
 "metadata": {
  "kernelspec": {
   "display_name": "Python 3",
   "language": "python",
   "name": "python3"
  },
  "language_info": {
   "codemirror_mode": {
    "name": "ipython",
    "version": 3
   },
   "file_extension": ".py",
   "mimetype": "text/x-python",
   "name": "python",
   "nbconvert_exporter": "python",
   "pygments_lexer": "ipython3",
   "version": "3.11.5"
  }
 },
 "nbformat": 4,
 "nbformat_minor": 2
}
