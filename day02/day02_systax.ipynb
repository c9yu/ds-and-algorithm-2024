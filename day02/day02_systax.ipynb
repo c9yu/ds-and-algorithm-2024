{
 "cells": [
  {
   "cell_type": "code",
   "execution_count": null,
   "metadata": {},
   "outputs": [],
   "source": [
    "# date : 20240213\n",
    "# file : ds02_syntax.ipynb\n",
    "# desc : 파이썬 기초 복습"
   ]
  },
  {
   "cell_type": "markdown",
   "metadata": {},
   "source": [
    "## 자료구조와 알고리즘\n",
    "\n",
    "- 파이썬 기초 문법 복습\n",
    "\n",
    "### 1. 리스트 컨프리헨션(함축)"
   ]
  },
  {
   "cell_type": "code",
   "execution_count": 2,
   "metadata": {},
   "outputs": [
    {
     "data": {
      "text/plain": [
       "[1, 2, 3, 4, 5]"
      ]
     },
     "execution_count": 2,
     "metadata": {},
     "output_type": "execute_result"
    }
   ],
   "source": [
    "nums = []\n",
    "for i in range(1, 6): # 1, 2, 3, 4, 5 # 반복문으로 생성\n",
    "    nums.append(i) # nums에 i를 추가\n",
    "\n",
    "nums"
   ]
  },
  {
   "cell_type": "code",
   "execution_count": 6,
   "metadata": {},
   "outputs": [
    {
     "data": {
      "text/plain": [
       "[1, 2, 3, 4, 5]"
      ]
     },
     "execution_count": 6,
     "metadata": {},
     "output_type": "execute_result"
    }
   ],
   "source": [
    "nums = list(range(1, 6)) # 클래스로 생성\n",
    "nums"
   ]
  },
  {
   "cell_type": "code",
   "execution_count": 7,
   "metadata": {},
   "outputs": [
    {
     "data": {
      "text/plain": [
       "[1, 2, 3, 4, 5]"
      ]
     },
     "execution_count": 7,
     "metadata": {},
     "output_type": "execute_result"
    }
   ],
   "source": [
    "nums = [i for i in range(1, 6)] # 리스트 함축\n",
    "nums"
   ]
  },
  {
   "cell_type": "code",
   "execution_count": 10,
   "metadata": {},
   "outputs": [
    {
     "data": {
      "text/plain": [
       "[1, 4, 9, 16, 25]"
      ]
     },
     "execution_count": 10,
     "metadata": {},
     "output_type": "execute_result"
    }
   ],
   "source": [
    "# 리스트 함축을 사용하는 경우\n",
    "nums = [i*i for i in range(1, 6)] # 간단하게 1~5까지 제곱의 리스트를 만들어 낼 수 있다.\n",
    "nums"
   ]
  },
  {
   "cell_type": "code",
   "execution_count": 11,
   "metadata": {},
   "outputs": [
    {
     "data": {
      "text/plain": [
       "[1, 4, 9, 16, 25]"
      ]
     },
     "execution_count": 11,
     "metadata": {},
     "output_type": "execute_result"
    }
   ],
   "source": [
    "# 리스트 함축을 사용하지 않는 경우\n",
    "nums = []\n",
    "for i in range(1, 6):\n",
    "    nums.append(i * i)\n",
    "\n",
    "nums"
   ]
  },
  {
   "cell_type": "code",
   "execution_count": 12,
   "metadata": {},
   "outputs": [
    {
     "data": {
      "text/plain": [
       "[3, 6, 9, 12, 15, 18]"
      ]
     },
     "execution_count": 12,
     "metadata": {},
     "output_type": "execute_result"
    }
   ],
   "source": [
    "nums = []\n",
    "nums = [i for i in range(1, 21) if i % 3 == 0] # 20이하의 3의 배수들만 나올 것\n",
    "nums"
   ]
  },
  {
   "cell_type": "code",
   "execution_count": 15,
   "metadata": {},
   "outputs": [
    {
     "data": {
      "text/plain": [
       "[[0, 1, 2, 3], [0, 1, 2, 3], [0, 1, 2, 3]]"
      ]
     },
     "execution_count": 15,
     "metadata": {},
     "output_type": "execute_result"
    }
   ],
   "source": [
    "# 2차원 리스트\n",
    "nums2 = [[i for i in range(4)]for j in range(3)] \n",
    "nums2\n",
    "\n",
    "# [[안쪽값(열)]바깥쪽 값(행)]\n",
    "# [[열]행] 안쪽에 행이 들어가고 바깥에 열이 들어간다."
   ]
  },
  {
   "cell_type": "markdown",
   "metadata": {},
   "source": [
    "### 세트"
   ]
  },
  {
   "cell_type": "code",
   "execution_count": 17,
   "metadata": {},
   "outputs": [
    {
     "data": {
      "text/plain": [
       "{1, 2, 3}"
      ]
     },
     "execution_count": 17,
     "metadata": {},
     "output_type": "execute_result"
    }
   ],
   "source": [
    "myset = {1, 2, 3, 3, 2, 1} # 집합은 같은수(값)은 없애준다. : 중복 제거\n",
    "myset"
   ]
  },
  {
   "cell_type": "markdown",
   "metadata": {},
   "source": [
    "### 로또 번호 생성기"
   ]
  },
  {
   "cell_type": "code",
   "execution_count": 18,
   "metadata": {},
   "outputs": [],
   "source": [
    "import random"
   ]
  },
  {
   "cell_type": "code",
   "execution_count": 19,
   "metadata": {},
   "outputs": [],
   "source": [
    "# 전역변수 선언\n",
    "totalLotto = [] # 최종 로또 번호 저장 (2차원 리스트)\n",
    "lotto = [] # 한 회별 로또 번호 저장 (1차원 리스트)\n",
    "pickNum = 0\n",
    "count = 0"
   ]
  },
  {
   "cell_type": "code",
   "execution_count": 24,
   "metadata": {},
   "outputs": [
    {
     "name": "stdout",
     "output_type": "stream",
     "text": [
      "로또 번호 생성 시작\n"
     ]
    }
   ],
   "source": [
    "print('로또 번호 생성 시작')\n",
    "totalLotto = [] # 로또 결과 리스트 초기화\n",
    "count = int(input('뽑을 횟수 입력 > '))\n",
    "\n",
    "for _ in range(count): # _(i 위치) : 반복되는 숫자를 사용하지 않겠다.\n",
    "    lotto = []\n",
    "    while True:\n",
    "        pickNum = random.randint(1, 45) # 1부터 45사이의 수를 저장\n",
    "        if pickNum not in lotto: # 랜덤으로 뽑은 수가 이미 있으면 패스하겠다.\n",
    "            lotto.append(pickNum)\n",
    "        else :\n",
    "            continue # 반복문이 여러개 있으면, 자신이 속한 반복문만 다시 반복\n",
    "\n",
    "        if len(lotto) >= 6: # 숫자를 6개 뽑았으면\n",
    "            break # 반복문이 여러개 있으면 현재 소속된 while(반복문)만 빠져나간다.\n",
    "\n",
    "    totalLotto.append(lotto)"
   ]
  },
  {
   "cell_type": "code",
   "execution_count": 25,
   "metadata": {},
   "outputs": [
    {
     "name": "stdout",
     "output_type": "stream",
     "text": [
      "로또 번호 >  03 06 07 28 38 41 \n",
      "로또 번호 >  04 12 14 19 28 38 \n",
      "로또 번호 >  25 29 32 34 41 43 \n",
      "로또 번호 >  11 18 31 34 35 43 \n",
      "로또 번호 >  16 32 36 37 41 45 \n"
     ]
    }
   ],
   "source": [
    "for item in totalLotto:\n",
    "    item.sort() # 정렬\n",
    "    print('로또 번호 > ', end = ' ')\n",
    "    for i in item:\n",
    "        print(f'{i:02d}', end = ' ')\n",
    "\n",
    "    print()"
   ]
  },
  {
   "cell_type": "code",
   "execution_count": null,
   "metadata": {},
   "outputs": [],
   "source": []
  }
 ],
 "metadata": {
  "kernelspec": {
   "display_name": "Python 3",
   "language": "python",
   "name": "python3"
  },
  "language_info": {
   "codemirror_mode": {
    "name": "ipython",
    "version": 3
   },
   "file_extension": ".py",
   "mimetype": "text/x-python",
   "name": "python",
   "nbconvert_exporter": "python",
   "pygments_lexer": "ipython3",
   "version": "3.11.5"
  }
 },
 "nbformat": 4,
 "nbformat_minor": 2
}
