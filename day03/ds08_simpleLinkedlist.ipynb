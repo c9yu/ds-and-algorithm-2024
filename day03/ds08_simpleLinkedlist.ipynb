{
 "cells": [
  {
   "cell_type": "code",
   "execution_count": 1,
   "metadata": {},
   "outputs": [],
   "source": [
    "# date : 20240214\n",
    "# file : ds08_simpleLinkedList.py\n",
    "# desc : 연결 리스트 학습 다시"
   ]
  },
  {
   "cell_type": "markdown",
   "metadata": {},
   "source": [
    "## 자료구조/알고리즘\n",
    "\n",
    "- 연결리스트 중 단순연결리스트 다시 학습\n",
    "\n",
    "## 단순연결 리스트\n",
    "- 클래스 생성\n",
    "\n",
    "    1. 클래스의 구조\n",
    "    2.  변수 선언\n",
    "    3. 연결리스트를 출력할 함수\n",
    "    4. 연결 리스트 맨 앞에 노드 삽입\n",
    "    5. 연결리스트 중간에 새 노드 삽입\n",
    "    6. 연결리스트 마지막에 새 노드 삽입\n",
    "    7. 첫번째 노드 삭제\n",
    "    8. 첫번째 외 노드 삭제\n",
    "    9. 노드 검색\n",
    "\n",
    "\n",
    "#### 정리\n",
    "- 맨 앞, 중간에 삽입한 것 : 파이썬 list.insert(index, data)와 동일\n",
    "- 맨 뒤 삽입한 것 : 파이썬 list.append(data)와 동일\n"
   ]
  },
  {
   "cell_type": "markdown",
   "metadata": {},
   "source": [
    "1. 클래스의 구조\n",
    "    \n",
    "    |data|node|\n",
    "    |---|---|"
   ]
  },
  {
   "cell_type": "code",
   "execution_count": 2,
   "metadata": {},
   "outputs": [],
   "source": [
    "# 1. 클래스의 구조\n",
    "# 노드 클래스\n",
    "\n",
    "class Node():\n",
    "    data = None # 실제 데이터 변수\n",
    "    link = None # 다음 노드를 지정하는 변수\n",
    "\n",
    "    def __init__(self) -> None: # 생성자\n",
    "        self.data = None # self.data = None 가 아닌 그냥 data = None를 하면 4번째 줄의 data와 다른 이름만 같은 변수가 된다.\n",
    "        self.link = None # 이경우 8,9번째 줄은 4,5번째 줄과 동일한 내용이라 중복되므로 4,5번째 줄은 생략 가능하다."
   ]
  },
  {
   "cell_type": "markdown",
   "metadata": {},
   "source": [
    "2. 변수 선언"
   ]
  },
  {
   "cell_type": "code",
   "execution_count": 3,
   "metadata": {},
   "outputs": [],
   "source": [
    "# 2. 변수 선언\n",
    "\n",
    "memory = []\n",
    "head = None # 연결리스트 제일 첫 노드를 알려주는 변수 'head' 여기에 None 객체가 할당\n",
    "prev = None # 현재 처리중인 노드의 바로 앞 노드를 지정하는 변수"
   ]
  },
  {
   "cell_type": "code",
   "execution_count": 4,
   "metadata": {},
   "outputs": [],
   "source": [
    "# 연결 데이터 순서 : 다현, 정연, 쯔위, 사나, 지효 ...\n",
    "# 추가 데이터 : 재남, 화사, 솔라, 문별 ...\n",
    "# 삭제 데이터 : 다현, 쯔위"
   ]
  },
  {
   "cell_type": "code",
   "execution_count": 5,
   "metadata": {},
   "outputs": [],
   "source": [
    "node = Node() # Node 객체 생성\n",
    "node.data = '다현'\n",
    "head = node # 변수 node를 변수 head에 할당, head는 첫번째 노드 다현을 가리킨다."
   ]
  },
  {
   "cell_type": "code",
   "execution_count": 6,
   "metadata": {},
   "outputs": [],
   "source": [
    "prev = node # 현재 node 객체를 prev 변수 지정. prev가 현재 node객체를 가리킨다\n",
    "node = Node() # '다현'을 들고 있는 node는 이미 head, prev에다 저장했기 때문, 다시 정연을 담을 새 node로 생성\n",
    "node.data = '정연'\n",
    "prev.link = node # '다현'을 들고 있는 prev(==node 객체와 동일)의 다음 node가 정연인 것을 지정(알려줌)"
   ]
  },
  {
   "cell_type": "code",
   "execution_count": 7,
   "metadata": {},
   "outputs": [],
   "source": [
    "prev = node \n",
    "node = Node() \n",
    "node.data = '쯔위'\n",
    "prev.link = node\n",
    "\n",
    "# 보면 동일한 구문이 반복된다 따라서 이는 나중에 함수등으로 구현해야 함"
   ]
  },
  {
   "cell_type": "markdown",
   "metadata": {},
   "source": [
    "3. 연결리스트를 출력할 함수"
   ]
  },
  {
   "cell_type": "code",
   "execution_count": 8,
   "metadata": {},
   "outputs": [],
   "source": [
    "def printNodes(start): # start부터 시작해서 끝까지 노드.data를 출력한다.\n",
    "    curr = start # start == head\n",
    "    if curr == None:return # return을 사용    /break, continue는 반복문이 없으면 사용 불가\n",
    "    while True:\n",
    "        if curr.link == None:   # 연결할 노드가 더이상 없으면\n",
    "            print(curr.data)    # 자신의 데이터만 출력하고\n",
    "            break               # 반복문을 탈출하면 된다.\n",
    "        else: \n",
    "            print(curr.data, end=' -> ')  # 연결할 노드가 있으니까 연결표기(->)를 해주고\n",
    "            curr = curr.link              # 자기 뒤의 데이터를 curr로 바꿔줌\n",
    "\n",
    "    print()"
   ]
  },
  {
   "cell_type": "code",
   "execution_count": 9,
   "metadata": {},
   "outputs": [
    {
     "name": "stdout",
     "output_type": "stream",
     "text": [
      "다현 -> 정연 -> 쯔위\n",
      "\n"
     ]
    }
   ],
   "source": [
    "printNodes(head)"
   ]
  },
  {
   "cell_type": "code",
   "execution_count": 10,
   "metadata": {},
   "outputs": [],
   "source": [
    "originData = ['다현', '정연', '솔라', '사나', '지효', '문별', '문별']"
   ]
  },
  {
   "cell_type": "code",
   "execution_count": 11,
   "metadata": {},
   "outputs": [
    {
     "data": {
      "text/plain": [
       "'다현'"
      ]
     },
     "execution_count": 11,
     "metadata": {},
     "output_type": "execute_result"
    }
   ],
   "source": [
    "originData[0]"
   ]
  },
  {
   "cell_type": "code",
   "execution_count": 12,
   "metadata": {},
   "outputs": [
    {
     "data": {
      "text/plain": [
       "['정연', '솔라', '사나', '지효', '문별', '문별']"
      ]
     },
     "execution_count": 12,
     "metadata": {},
     "output_type": "execute_result"
    }
   ],
   "source": [
    "originData[1:]"
   ]
  },
  {
   "cell_type": "markdown",
   "metadata": {},
   "source": [
    "4. 연결 리스트 맨 앞에 노드 삽입"
   ]
  },
  {
   "cell_type": "code",
   "execution_count": 13,
   "metadata": {},
   "outputs": [
    {
     "name": "stdout",
     "output_type": "stream",
     "text": [
      "다현 -> 정연 -> 쯔위\n",
      "\n"
     ]
    }
   ],
   "source": [
    "# 연결 리스트 맨 앞에 노드 삽입\n",
    "\n",
    "printNodes(head)"
   ]
  },
  {
   "cell_type": "code",
   "execution_count": 14,
   "metadata": {},
   "outputs": [],
   "source": [
    "prev = node \n",
    "node = Node() \n",
    "node.data = '사나'\n",
    "prev.link = node"
   ]
  },
  {
   "cell_type": "code",
   "execution_count": 15,
   "metadata": {},
   "outputs": [],
   "source": [
    "prev = node \n",
    "node = Node() \n",
    "node.data = '지효'\n",
    "prev.link = node"
   ]
  },
  {
   "cell_type": "code",
   "execution_count": 16,
   "metadata": {},
   "outputs": [
    {
     "name": "stdout",
     "output_type": "stream",
     "text": [
      "다현 -> 정연 -> 쯔위 -> 사나 -> 지효\n",
      "\n"
     ]
    }
   ],
   "source": [
    "printNodes(head)"
   ]
  },
  {
   "cell_type": "code",
   "execution_count": 17,
   "metadata": {},
   "outputs": [],
   "source": [
    "node = Node()\n",
    "node.data = '화사'\n",
    "node.link = head # 현재 '다현'을 가리킨다.\n",
    "head = node # head가 변경된다."
   ]
  },
  {
   "cell_type": "code",
   "execution_count": 18,
   "metadata": {},
   "outputs": [
    {
     "name": "stdout",
     "output_type": "stream",
     "text": [
      "화사 -> 다현 -> 정연 -> 쯔위 -> 사나 -> 지효\n",
      "\n"
     ]
    }
   ],
   "source": [
    "printNodes(head)"
   ]
  },
  {
   "cell_type": "markdown",
   "metadata": {},
   "source": [
    "5. 연결리스트 중간에 새 노드 삽입"
   ]
  },
  {
   "cell_type": "code",
   "execution_count": 19,
   "metadata": {},
   "outputs": [],
   "source": [
    "curr = head # curr가 제일 처음으로 이동\n",
    "\n",
    "while curr.link != None:\n",
    "    prev = curr # prev와 curr가 같은 노드를 가리킨다.\n",
    "    curr = curr.link # curr가 가리키는 다음 값을 curr로 지정(prev는 앞에 있고, curr가 뒤로 한 칸 넘어감)\n",
    "\n",
    "    if curr.data == '사나': \n",
    "        node = Node()\n",
    "        node.data = '솔라'\n",
    "        node.link = curr # '사나'가 들어있는 노드 앞에다 '솔라' node를 연결\n",
    "        prev.link = node\n",
    "    "
   ]
  },
  {
   "cell_type": "code",
   "execution_count": 20,
   "metadata": {},
   "outputs": [
    {
     "name": "stdout",
     "output_type": "stream",
     "text": [
      "화사 -> 다현 -> 정연 -> 쯔위 -> 솔라 -> 사나 -> 지효\n",
      "\n"
     ]
    }
   ],
   "source": [
    "printNodes(head)"
   ]
  },
  {
   "cell_type": "markdown",
   "metadata": {},
   "source": [
    "6. 연결 리스트 마지막에 새 노드 삽입"
   ]
  },
  {
   "cell_type": "code",
   "execution_count": 21,
   "metadata": {},
   "outputs": [],
   "source": [
    "node = Node()\n",
    "node.data = '문별'\n",
    "curr.link = node"
   ]
  },
  {
   "cell_type": "code",
   "execution_count": 22,
   "metadata": {},
   "outputs": [
    {
     "name": "stdout",
     "output_type": "stream",
     "text": [
      "화사 -> 다현 -> 정연 -> 쯔위 -> 솔라 -> 사나 -> 지효 -> 문별\n",
      "\n"
     ]
    }
   ],
   "source": [
    "printNodes(head)"
   ]
  },
  {
   "cell_type": "markdown",
   "metadata": {},
   "source": [
    "#### 정리\n",
    "- 맨 앞, 중간에 삽입한 것 : 파이썬 list.insert(index, data)와 동일\n",
    "- 맨 뒤 삽입한 것 : 파이썬 list.append(data)와 동일"
   ]
  },
  {
   "cell_type": "markdown",
   "metadata": {},
   "source": [
    "7. 첫번째 노드 삭제"
   ]
  },
  {
   "cell_type": "code",
   "execution_count": 23,
   "metadata": {},
   "outputs": [
    {
     "data": {
      "text/plain": [
       "'다현'"
      ]
     },
     "execution_count": 23,
     "metadata": {},
     "output_type": "execute_result"
    }
   ],
   "source": [
    "curr = head\n",
    "head = head.link\n",
    "head.data"
   ]
  },
  {
   "cell_type": "code",
   "execution_count": 24,
   "metadata": {},
   "outputs": [],
   "source": [
    "del(curr)"
   ]
  },
  {
   "cell_type": "code",
   "execution_count": 25,
   "metadata": {},
   "outputs": [
    {
     "name": "stdout",
     "output_type": "stream",
     "text": [
      "다현 -> 정연 -> 쯔위 -> 솔라 -> 사나 -> 지효 -> 문별\n",
      "\n"
     ]
    }
   ],
   "source": [
    "printNodes(head)"
   ]
  },
  {
   "cell_type": "markdown",
   "metadata": {},
   "source": [
    "8. 첫번째 외 노드 삭제"
   ]
  },
  {
   "cell_type": "code",
   "execution_count": 27,
   "metadata": {},
   "outputs": [],
   "source": [
    "curr = head\n",
    "\n",
    "while curr.link != None:\n",
    "    prev = curr\n",
    "    curr = curr.link\n",
    "\n",
    "    if curr.data == '쯔위': # '정연' 노드를 삭제한다.\n",
    "        prev.link = curr.link\n",
    "        #curr.link = None # 굳이 필요없는 구문, 어차피 지울거니까\n",
    "        del(curr)"
   ]
  },
  {
   "cell_type": "code",
   "execution_count": null,
   "metadata": {},
   "outputs": [
    {
     "name": "stdout",
     "output_type": "stream",
     "text": [
      "다현 -> 솔라 -> 사나 -> 지효 -> 문별\n",
      "\n"
     ]
    }
   ],
   "source": [
    "printNodes(head)"
   ]
  },
  {
   "cell_type": "markdown",
   "metadata": {},
   "source": [
    "9. 노드 검색"
   ]
  },
  {
   "cell_type": "code",
   "execution_count": null,
   "metadata": {},
   "outputs": [
    {
     "name": "stdout",
     "output_type": "stream",
     "text": [
      "정연\n",
      "None\n"
     ]
    }
   ],
   "source": [
    "find = '정연'\n",
    "\n",
    "curr = head # curr 사용되는 변수라서 이 작업을 항상 해줘야 함\n",
    "if curr.data == find :\n",
    "    print(curr.data)\n",
    "\n",
    "while curr.link != None:\n",
    "    curr = curr.link # 다음 노드로 넘김\n",
    "    if curr.data == find:\n",
    "        print(curr.data)\n",
    "\n",
    "print(None)"
   ]
  },
  {
   "cell_type": "markdown",
   "metadata": {},
   "source": [
    "#### 정리\n",
    "- 노드 검색은 파이썬 리스트, list.index(), list.count()와 유사하다."
   ]
  },
  {
   "cell_type": "code",
   "execution_count": null,
   "metadata": {},
   "outputs": [
    {
     "data": {
      "text/plain": [
       "['다현', '정연', '솔라', '사나', '지효', '문별']"
      ]
     },
     "execution_count": 94,
     "metadata": {},
     "output_type": "execute_result"
    }
   ],
   "source": [
    "originData"
   ]
  },
  {
   "cell_type": "code",
   "execution_count": null,
   "metadata": {},
   "outputs": [
    {
     "data": {
      "text/plain": [
       "0"
      ]
     },
     "execution_count": 98,
     "metadata": {},
     "output_type": "execute_result"
    }
   ],
   "source": [
    "originData.count('재남')"
   ]
  },
  {
   "cell_type": "code",
   "execution_count": null,
   "metadata": {},
   "outputs": [
    {
     "data": {
      "text/plain": [
       "2"
      ]
     },
     "execution_count": 97,
     "metadata": {},
     "output_type": "execute_result"
    }
   ],
   "source": [
    "originData.count('문별') # 없는 사람 입력시 0 출력 있는 사람 출력시 1 출력, 이름이 중복되어 있다면 중복된 만큼 count 해준다."
   ]
  },
  {
   "cell_type": "code",
   "execution_count": null,
   "metadata": {},
   "outputs": [],
   "source": []
  }
 ],
 "metadata": {
  "kernelspec": {
   "display_name": "Python 3",
   "language": "python",
   "name": "python3"
  },
  "language_info": {
   "codemirror_mode": {
    "name": "ipython",
    "version": 3
   },
   "file_extension": ".py",
   "mimetype": "text/x-python",
   "name": "python",
   "nbconvert_exporter": "python",
   "pygments_lexer": "ipython3",
   "version": "3.11.5"
  }
 },
 "nbformat": 4,
 "nbformat_minor": 2
}
